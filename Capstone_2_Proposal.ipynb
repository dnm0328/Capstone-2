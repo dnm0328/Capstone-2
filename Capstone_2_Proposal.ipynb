{
 "cells": [
  {
   "cell_type": "markdown",
   "metadata": {},
   "source": [
    "# Proposal 2_Summary:"
   ]
  },
  {
   "cell_type": "markdown",
   "metadata": {},
   "source": [
    "## Idea 1: \n",
    "\n",
    "A continuation from my previous Capstone. With that, I would want to focus on compounding the game data that was left out before, to focus on defense, with the data I already have. \n",
    "\n",
    "What this means: I will be able to use my previoius web-scrape --> to CVS function and pull all data necessary within minutes. I will not have to spend as much time on data acquisition this time, as I did last time. \n",
    "\n",
    "Once I have the data, I will be doing a quick EDA, in order to build a game - by - game \"deficit ranker\" statistic. I am not quite sure how, or which data points I will ust for this yet. With this ranker I will then work towards building a model to predict, given a certain number of games within a season, the liklihood of any given team going to the playoffs for their division/ conference, that year. "
   ]
  },
  {
   "cell_type": "markdown",
   "metadata": {},
   "source": [
    "**Websites:**\n",
    "\n",
    "- https://www.nfl.com/stats/player-stats/category/passing/2019/REG/all/passingyards/DESC\n",
    "\n",
    "- https://footballdb.com"
   ]
  },
  {
   "cell_type": "markdown",
   "metadata": {},
   "source": [
    "## Idea 2:\n",
    "\n",
    "This is a shot in the dark, and very much in its conception at this time, but I would really like to analyze crime (specifically sex/ drug traffiking) on common trucking routes/ highways, against seasonal time frames. With this data set (which I HAVE not found yet) I would want to compare against seasonal times and specific geographic areas in the US in order to understand when and where the most likely interdiction spots could/ would be for Law Enforcement Agencies. "
   ]
  },
  {
   "cell_type": "code",
   "execution_count": null,
   "metadata": {},
   "outputs": [],
   "source": []
  }
 ],
 "metadata": {
  "kernelspec": {
   "display_name": "Python 3",
   "language": "python",
   "name": "python3"
  },
  "language_info": {
   "codemirror_mode": {
    "name": "ipython",
    "version": 3
   },
   "file_extension": ".py",
   "mimetype": "text/x-python",
   "name": "python",
   "nbconvert_exporter": "python",
   "pygments_lexer": "ipython3",
   "version": "3.7.9"
  }
 },
 "nbformat": 4,
 "nbformat_minor": 4
}
